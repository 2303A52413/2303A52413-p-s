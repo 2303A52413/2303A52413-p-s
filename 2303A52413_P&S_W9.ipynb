{
  "nbformat": 4,
  "nbformat_minor": 0,
  "metadata": {
    "colab": {
      "provenance": [],
      "authorship_tag": "ABX9TyPxrfdlnAbc3uHJPinVgHY2",
      "include_colab_link": true
    },
    "kernelspec": {
      "name": "python3",
      "display_name": "Python 3"
    },
    "language_info": {
      "name": "python"
    }
  },
  "cells": [
    {
      "cell_type": "markdown",
      "metadata": {
        "id": "view-in-github",
        "colab_type": "text"
      },
      "source": [
        "<a href=\"https://colab.research.google.com/github/2303A52413/2303A52413-p-s/blob/main/2303A52413_P%26S_W9.ipynb\" target=\"_parent\"><img src=\"https://colab.research.google.com/assets/colab-badge.svg\" alt=\"Open In Colab\"/></a>"
      ]
    },
    {
      "cell_type": "markdown",
      "source": [
        "1) A researcher wants to compare the average daily water intake (in liters) of two types of individuals:\n",
        "Group A: Individuals who follow a strict hydration regimen.\n",
        "Group B: Individuals who do not follow any specific hydration regimen.\n",
        "The researcher wants to know if there is a significant difference in the average water intake per day between the two\n",
        "groups. The data for the daily water intake (in liters) for each group is as follows:\n",
        "Group A (Hydration Regimen Followers) : [2.8, 3.1, 3.0, 2.5, 3.2, 3.0, 3.3, 2.7, 2.9, 3.0]\n",
        "Group B (Non-Followers of Hydration Regimen) : [1.5, 1.7, 1.6, 1.9, 2.0, 1.8, 1.7, 1.6, 1.8, 1.5]\n",
        "The researcher will use a two-sample independent t-test to compare the average daily water intake between the two\n",
        "groups and determine if there is a significant difference."
      ],
      "metadata": {
        "id": "mMaVdakB2zs9"
      }
    },
    {
      "cell_type": "code",
      "execution_count": 1,
      "metadata": {
        "colab": {
          "base_uri": "https://localhost:8080/"
        },
        "id": "xQ416rwO2TR0",
        "outputId": "d3771543-b9ae-4ca0-e05a-07dad7931a4d"
      },
      "outputs": [
        {
          "output_type": "stream",
          "name": "stdout",
          "text": [
            "T-Statistic: 13.547440957563675\n",
            "P-Value: 6.995490069303675e-11\n",
            "There is a significant difference in average daily water intake between the two groups.\n"
          ]
        }
      ],
      "source": [
        "import scipy.stats as stats\n",
        "\n",
        "group_A = [2.8, 3.1, 3.0, 2.5, 3.2, 3.0, 3.3, 2.7, 2.9, 3.0]\n",
        "group_B = [1.5, 1.7, 1.6, 1.9, 2.0, 1.8, 1.7, 1.6, 1.8, 1.5]\n",
        "\n",
        "t_statistic, p_value = stats.ttest_ind(group_A, group_B)\n",
        "\n",
        "print(\"T-Statistic:\", t_statistic)\n",
        "print(\"P-Value:\", p_value)\n",
        "\n",
        "alpha = 0.05\n",
        "if p_value < alpha:\n",
        "    print(\"There is a significant difference in average daily water intake between the two groups.\")\n",
        "else:\n",
        "    print(\"There is no significant difference in average daily water intake between the two groups.\")"
      ]
    },
    {
      "cell_type": "markdown",
      "source": [
        "2)A person wants to compare the average number of hours spent exercising per week for two groups of individuals:\n",
        "Group A: Individuals who follow a daily workout routine.\n",
        "Group B: Individuals who do not follow a regular workout routine.\n",
        "The person wants to know if there is a significant difference in the average number of hours spent exercising per week\n",
        "between the two groups. The data for the number of hours spent exercising per week for each group is as follows:\n",
        "Group A (Daily Workout Routine):\n",
        "7, 8, 6, 9, 10, 8, 7, 6, 8, 9\n",
        "Group B (No Regular Workout Routine):\n",
        "3, 4, 2, 3, 5, 4, 3, 2, 4, 3\n",
        "The person will use a two-sample independent t-test to compare the average number of hours spent exercising per week\n",
        "between the two groups and determine if there is a significant difference"
      ],
      "metadata": {
        "id": "55s0c5R_27qx"
      }
    },
    {
      "cell_type": "code",
      "source": [
        "import scipy.stats as stats\n",
        "\n",
        "group_A = [7, 8, 6, 9, 10, 8, 7, 6, 8, 9]\n",
        "group_B = [3, 4, 2, 3, 5, 4, 3, 2, 4, 3]\n",
        "\n",
        "t_statistic, p_value = stats.ttest_ind(group_A, group_B)\n",
        "\n",
        "print(\"T-Statistic:\", t_statistic)\n",
        "print(\"P-Value:\", p_value)\n",
        "\n",
        "alpha = 0.05\n",
        "if p_value < alpha:\n",
        "    print(\"There is a significant difference in average hours spent exercising per week between the two groups.\")\n",
        "else:\n",
        "    print(\"There is no significant difference in average hours spent exercising per week between the two groups.\")"
      ],
      "metadata": {
        "colab": {
          "base_uri": "https://localhost:8080/"
        },
        "id": "UH6NTF5f3bBz",
        "outputId": "d8ca92e5-e428-4f77-daaf-0636380a7c67"
      },
      "execution_count": 2,
      "outputs": [
        {
          "output_type": "stream",
          "name": "stdout",
          "text": [
            "T-Statistic: 8.769192333232017\n",
            "P-Value: 6.472889338915934e-08\n",
            "There is a significant difference in average hours spent exercising per week between the two groups.\n"
          ]
        }
      ]
    },
    {
      "cell_type": "markdown",
      "source": [
        "An individual wants to compare the average number of hours spent reading books per week by two groups of people:\n",
        "\n",
        "• Group X: People who read books regularly.\n",
        "\n",
        "• Group Y: People who do not read books regularly.\n",
        "\n",
        "The individual wants to know if there is a significant difference in the average number of hours spent reading books per week between the two groups. The data for the number of hours spent reading books per week for each group is as follows:\n",
        "\n",
        "Group X (Regular Book Readers)\n",
        "4, 5, 6, 3, 5, 6, 4, 5, 7, 6\n",
        "\n",
        "Group Y (Non-Regular Book Readers)\n",
        "1, 2, 3, 2, 1, 4, 2, 1, 3, 2\n",
        "\n",
        "The researcher will use a two-sample independent t-test to compare the average number of hours spent reading books per week between the two groups and determine if there is a significant difference"
      ],
      "metadata": {
        "id": "G_E_KCrP3shj"
      }
    },
    {
      "cell_type": "code",
      "source": [
        "import scipy.stats as stats\n",
        "\n",
        "group_X = [4, 5, 6, 3, 5, 6, 4, 5, 7, 6]\n",
        "group_Y = [1, 2, 3, 2, 1, 4, 2, 1, 3, 2]\n",
        "\n",
        "t_statistic, p_value = stats.ttest_ind(group_X, group_Y)\n",
        "\n",
        "print(\"T-Statistic:\", t_statistic)\n",
        "print(\"P-Value:\", p_value)\n",
        "\n",
        "alpha = 0.05\n",
        "if p_value < alpha:\n",
        "    print(\"There is a significant difference in average hours spent reading books per week between the two groups.\")\n",
        "else:\n",
        "    print(\"There is no significant difference in average hours spent reading books per week between the two groups.\")"
      ],
      "metadata": {
        "colab": {
          "base_uri": "https://localhost:8080/"
        },
        "id": "yunQYjYT3xMY",
        "outputId": "cb6036d4-dcda-47b2-8315-c1f1f66c5ef7"
      },
      "execution_count": 3,
      "outputs": [
        {
          "output_type": "stream",
          "name": "stdout",
          "text": [
            "T-Statistic: 6.095569153307365\n",
            "P-Value: 9.27205847240625e-06\n",
            "There is a significant difference in average hours spent reading books per week between the two groups.\n"
          ]
        }
      ]
    }
  ]
}